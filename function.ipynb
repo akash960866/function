{
 "cells": [
  {
   "cell_type": "code",
   "execution_count": 4,
   "id": "04220836-0b24-4a70-a984-ee770fc31e32",
   "metadata": {},
   "outputs": [],
   "source": [
    "#***************Assignment*****************\n",
    "#***************Functions******************\n",
    "\n",
    "#(1)- What is the difference between a function and a method in Python?\n",
    "\n",
    "#    In Python, both functions and methods are used to execute a block of code, but\n",
    "#    they differ in how they are defined and used.\n",
    "\n",
    "#    1. Function\n",
    "#    A function is an independent block of reusable code that performs a specific task.\n",
    "#    It is defined using the def keyword and can take arguments and return values.\n",
    "#    Functions are called directly using their name. \n",
    "\n",
    "#    2. Method\n",
    "#    A method is a function that is associated with an object (i.e., it belongs to a class).\n",
    "#    It is defined inside a class and typically operates on the instance (self).\n",
    "#    It is called using the dot notation on an object.\n",
    "\n",
    "#    Key Differences\n",
    "#       Feature\t                     Function\t                                             Method\n",
    "#    Definition               \tDefined using def outside a class\t             Defined inside a class\n",
    "#    Belongs To               \tIndependent (not tied to an object)\t             Belongs to an object of a class\n",
    "#    Calling\t                Called directly (function_name())\t             Called using an object (object.method_name())\n",
    "#    Uses\t                    General-purpose tasks \t                         Operates on class instances and modifies attributes\n",
    "\n",
    "#(2)- Explain the concept of function arguments and parameters in Python.\n",
    "\n",
    "#    Parameters:\n",
    "\n",
    "#   * Parameters are variables that are defined in the function signature.\n",
    "#   * They act as placeholders for the values that will be passed into the function when it is called.\n",
    "\n",
    "#    Arguments:\n",
    "\n",
    "#    Arguments are the actual values that are passed to the function when it is called.\n",
    "#    These values replace the parameters in the function.\n",
    "\n",
    "#    types of Arguments\n",
    "#    Positional Arguments:\n",
    "\n",
    "#    These are arguments that are passed to the function in the same order as the parameters are defined.\n",
    "\n",
    "#    Keyword Arguments:\n",
    "\n",
    "#    These are arguments that are passed to the function by explicitly specifying the parameter names.\n",
    "#    This allows for greater flexibility and readability.\n",
    "\n",
    "#    default arguments \n",
    "\n",
    "#    These are parameters that have default values assigned to them.\n",
    "#    If an argument is not provided for a parameter with a default value, the default value is used.\n",
    "\n",
    "#    Variable-Length Arguments:\n",
    "\n",
    "#    These allow a function to accept an arbitrary number of arguments.\n",
    "#    There are two types:\n",
    "#    *args: Used to pass a variable number of positional arguments.\n",
    "#    **kwargs: Used to pass a variable number of keyword arguments.\n",
    "\n",
    "#(3)-  What are the different ways to define and call a function in Python?\n",
    "\n",
    "#      Standard Function Definition and Call\n",
    "#      Definition:\n",
    "\n",
    "def greet(name):\n",
    "    return f\"Hello, {name}!\""
   ]
  },
  {
   "cell_type": "code",
   "execution_count": 8,
   "id": "a30fc81e-e538-4f21-976f-311bf9cd8e8a",
   "metadata": {},
   "outputs": [
    {
     "name": "stdout",
     "output_type": "stream",
     "text": [
      "Hello, Alice!\n"
     ]
    }
   ],
   "source": [
    "greeting = greet(\"Alice\")\n",
    "print(greeting)\n"
   ]
  },
  {
   "cell_type": "code",
   "execution_count": 10,
   "id": "a7a8cc0e-18f3-4cf2-a715-7c231b32f84e",
   "metadata": {},
   "outputs": [],
   "source": [
    "# 2. Function with Default Arguments\n",
    "def greet(name=\"Stranger\"):\n",
    "    return f\"Hello, {name}!\""
   ]
  },
  {
   "cell_type": "code",
   "execution_count": 12,
   "id": "457da9fd-012e-43c5-af54-702952e4af0a",
   "metadata": {},
   "outputs": [
    {
     "name": "stdout",
     "output_type": "stream",
     "text": [
      "Hello, Stranger!\n",
      "Hello, Alice!\n"
     ]
    }
   ],
   "source": [
    "print(greet())         # Uses default value \"Stranger\"\n",
    "print(greet(\"Alice\"))  # Uses provided argument \"Alice\"\n"
   ]
  },
  {
   "cell_type": "code",
   "execution_count": 14,
   "id": "24663786-b079-4801-ab91-3d89de1d5f58",
   "metadata": {},
   "outputs": [],
   "source": [
    "#. Lambda Function (Anonymous Function)\n",
    "add = lambda a, b: a + b"
   ]
  },
  {
   "cell_type": "code",
   "execution_count": 16,
   "id": "3db42ead-2bef-46da-9d52-6345a64766f6",
   "metadata": {},
   "outputs": [
    {
     "name": "stdout",
     "output_type": "stream",
     "text": [
      "5\n"
     ]
    }
   ],
   "source": [
    "result = add(2, 3)\n",
    "print(result)\n"
   ]
  },
  {
   "cell_type": "code",
   "execution_count": 18,
   "id": "790bd7cf-78fb-453d-a56f-49596daf9969",
   "metadata": {},
   "outputs": [],
   "source": [
    "#   Function with Variable-Length Arguments\n",
    "def greet_many(*names):\n",
    "    for name in names:\n",
    "        print(f\"Hello, {name}!\")\n"
   ]
  },
  {
   "cell_type": "code",
   "execution_count": 20,
   "id": "7bc177b9-e78b-4bb4-8d5b-29c9707e208e",
   "metadata": {},
   "outputs": [
    {
     "name": "stdout",
     "output_type": "stream",
     "text": [
      "Hello, Alice!\n",
      "Hello, Bob!\n",
      "Hello, Charlie!\n"
     ]
    }
   ],
   "source": [
    "greet_many(\"Alice\", \"Bob\", \"Charlie\")\n"
   ]
  },
  {
   "cell_type": "code",
   "execution_count": 24,
   "id": "872fbfca-39bb-4a6d-a876-185a19ae7881",
   "metadata": {},
   "outputs": [],
   "source": [
    "def describe_person(name, **details):\n",
    "    print(f\"Name: {name}\")\n",
    "    for key, value in details.items():\n",
    "        print(f\"{key}: {value}\")"
   ]
  },
  {
   "cell_type": "code",
   "execution_count": 26,
   "id": "24493e76-dba6-415d-9f9f-c9c03dfc2bed",
   "metadata": {},
   "outputs": [
    {
     "name": "stdout",
     "output_type": "stream",
     "text": [
      "Name: Alice\n",
      "age: 30\n",
      "job: Engineer\n"
     ]
    }
   ],
   "source": [
    "describe_person(\"Alice\", age=30, job=\"Engineer\")\n"
   ]
  },
  {
   "cell_type": "code",
   "execution_count": 28,
   "id": "74593c36-f6e6-4e91-95cb-7585703e45e6",
   "metadata": {},
   "outputs": [],
   "source": [
    "# Nested Functions\n",
    "def outer_function(text):\n",
    "    def inner_function():\n",
    "        print(text)\n",
    "    inner_function()"
   ]
  },
  {
   "cell_type": "code",
   "execution_count": 30,
   "id": "620d6b3c-4f61-4a9f-9a88-30c46f0390a6",
   "metadata": {},
   "outputs": [
    {
     "name": "stdout",
     "output_type": "stream",
     "text": [
      "Hello from the inside!\n"
     ]
    }
   ],
   "source": [
    "outer_function(\"Hello from the inside!\")\n"
   ]
  },
  {
   "cell_type": "code",
   "execution_count": 32,
   "id": "e8efda9f-5b30-4868-beb8-e76e011bb0d8",
   "metadata": {},
   "outputs": [],
   "source": [
    "#  Higher-Order Functions (Function as an Argument)\n",
    "def apply_function(func, value):\n",
    "    return func(value)\n",
    "\n",
    "def square(x):\n",
    "    return x * x"
   ]
  },
  {
   "cell_type": "code",
   "execution_count": 34,
   "id": "b8ec7855-5c3e-4157-81a4-e9bf1c6b2299",
   "metadata": {},
   "outputs": [
    {
     "name": "stdout",
     "output_type": "stream",
     "text": [
      "25\n"
     ]
    }
   ],
   "source": [
    "result = apply_function(square, 5)\n",
    "print(result)"
   ]
  },
  {
   "cell_type": "code",
   "execution_count": 36,
   "id": "5c16dba4-e2d9-46b8-890f-50491dc8787c",
   "metadata": {},
   "outputs": [],
   "source": [
    "#  Recursive Function\n",
    "def factorial(n):\n",
    "    if n == 0:\n",
    "        return 1\n",
    "    else:\n",
    "        return n * factorial(n-1)\n"
   ]
  },
  {
   "cell_type": "code",
   "execution_count": 38,
   "id": "44f3f786-0ac3-4cfc-94ee-cd7853517c5d",
   "metadata": {},
   "outputs": [
    {
     "name": "stdout",
     "output_type": "stream",
     "text": [
      "120\n"
     ]
    }
   ],
   "source": [
    "print(factorial(5))\n"
   ]
  },
  {
   "cell_type": "code",
   "execution_count": 40,
   "id": "fc379ae8-3bfc-44f0-9bb2-a7eee9cb1659",
   "metadata": {},
   "outputs": [
    {
     "name": "stdout",
     "output_type": "stream",
     "text": [
      "1\n",
      "2\n",
      "3\n",
      "4\n",
      "5\n"
     ]
    }
   ],
   "source": [
    "#(4)- What is the purpose of the `return` statement in a Python function?\n",
    "\n",
    "#   Purpose of the return Statement in a Python Function.\n",
    "#   The return statement in Python is used to send back a result from a function to the caller. \n",
    "#   It effectively ends the function’s execution and provides an output.#\n",
    "\n",
    "#   Key Points About return\n",
    "\n",
    "#   Returns a Value → Allows a function to send back data to be used later.\n",
    "#   Ends Function Execution → Any code after return in a function will not be executed.\n",
    "#   Can Return Multiple Values → Python functions can return multiple values as a tuple.\n",
    "#   Without return, the Function Returns None by default.\n",
    "\n",
    "#   When Should You Use return?\n",
    "#   When you need the function to provide an output for further use.\n",
    "#   When you want to store or manipulate the function’s result.\n",
    "#   When returning early to exit a function under certain conditions.\n",
    "\n",
    "#(5)- What are iterators in Python and how do they differ from iterables?\n",
    "#     An iterable is any object in Python that can be looped over (iterated). It contains a sequence\n",
    "#     of elements and implements the __iter__() method, which returns an iterator.\n",
    "\n",
    "#     Examples of Iterables:\n",
    "#     Lists → my_list = [1, 2, 3]\n",
    "#     Tuples → my_tuple = (4, 5, 6)\n",
    "#     Strings → \"hello\"\n",
    "#     Dictionaries → {\"a\": 1, \"b\": 2}\n",
    "#     Sets → {7, 8, 9}\n",
    "\n",
    "#     An iterator is an object that represents a stream of data. It remembers its position and knows\n",
    "#     how to get the next item using the __next__() method.##\n",
    "\n",
    "#    Key Properties of Iterators:\n",
    "#    Implements __iter__() and __next__() methods.\n",
    "#    Iterators are stateful (they remember where they left off).\n",
    "#    They do not reset like iterables (once exhausted, they cannot be reused).\n",
    "#    Converting an Iterable into an Iterator:\n",
    "#    We use the built-in iter() function.\n",
    "\n",
    "#    Key Differences Between Iterators and Iterables\n",
    "#    Feature\t             Iterable                   \t            Iterator\n",
    "#    Definition\t            Object that can be iterated over\t      Object that produces values one at a time\n",
    "#    Has __iter__()     \t✅ Yes                                    ✅ Yes\n",
    "#    Has __next__()\t       ❌ No\t                                 ✅ Yes\n",
    "#    Examples              Lists, Tuples, Strings, Sets, Dicts\t     Objects from iter() or custom iterators\n",
    "#    Resets?\t           ✅ Yes (can be used multiple times)\t    ❌ No (exhausts once used)\n",
    "\n",
    "#(6)-  Explain the concept of generators in Python and how they are defined.\n",
    "\n",
    "#     Generators in Python are a special type of iterable, like lists or tuples. However, unlike lists, they\n",
    "#     generate items on the fly and do not store them in memory, making them more memory-efficient. Generators are \n",
    "#     particularly useful for large datasets or infinite sequences where it is impractical to store all elements at once.\n",
    "\n",
    "#     Key Characteristics of Generators\n",
    "#     Lazy Evaluation: Generators produce items only when requested, allowing for efficient handling of large datasets.\n",
    "\n",
    "#    Stateful Iteration: Each call to a generator function resumes where it left off, maintaining state between iterations.##\n",
    "#    Efficiency: Generators are more memory-efficient than lists, as they yield items one at a time.\n",
    "\n",
    "#    Defining Generators\n",
    "#    There are two common ways to define generators in Python:\n",
    "\n",
    "#    Generator Functions:\n",
    "\n",
    "#    Defined using a function and the yield keyword.\n",
    "#    Each call to yield produces a value and pauses the function's execution, resuming from where it left off on the next iteration.\n",
    "\n",
    "#example\n",
    "def count_up_to(max):\n",
    "    count = 1\n",
    "    while count <= max:\n",
    "        yield count\n",
    "        count += 1\n",
    "\n",
    "counter = count_up_to(5)\n",
    "for number in counter:\n",
    "    print(number)\n"
   ]
  },
  {
   "cell_type": "code",
   "execution_count": 44,
   "id": "b4d05263-f32d-47c7-9088-b10ff4d2dd66",
   "metadata": {},
   "outputs": [
    {
     "name": "stdout",
     "output_type": "stream",
     "text": [
      "1\n",
      "4\n",
      "9\n",
      "16\n",
      "25\n"
     ]
    }
   ],
   "source": [
    "#   Generator Expressions:\n",
    "\n",
    "#   Similar to list comprehensions but with parentheses instead of square brackets.\n",
    "#   More concise and typically used for simple generator definitions.\n",
    "#   Example:\n",
    "squares = (x * x for x in range(1, 6))\n",
    "for square in squares:\n",
    "    print(square)\n",
    "#    This generator expression yields the square of each number in the range from 1 to 5."
   ]
  },
  {
   "cell_type": "code",
   "execution_count": 46,
   "id": "1ff90e05-a1e9-4a9f-b03d-01180a4575af",
   "metadata": {},
   "outputs": [
    {
     "name": "stdout",
     "output_type": "stream",
     "text": [
      "0\n",
      "1\n",
      "1\n",
      "2\n"
     ]
    }
   ],
   "source": [
    "#   Using Generators\n",
    "#   Generators can be iterated using a for loop, next() function, or any other method that works with iterables.\n",
    "#   When used with the next() function, a generator raises a StopIteration exception when there are no more items to yield.\n",
    "#   Example:\n",
    "def fibonacci(n):\n",
    "    a, b = 0, 1\n",
    "    while a < n:\n",
    "        yield a\n",
    "        a, b = b, a + b\n",
    "\n",
    "fib = fibonacci(10)\n",
    "print(next(fib))  # Outputs: 0\n",
    "print(next(fib))  # Outputs: 1\n",
    "print(next(fib))  # Outputs: 1\n",
    "print(next(fib))  # Outputs: 2\n",
    "#    ... and so on\n",
    "#    In this example, the fibonacci generator yields Fibonacci numbers up to n.\n",
    "#    Generators are a powerful feature in Python, allowing for efficient iteration and memory usage\n"
   ]
  },
  {
   "cell_type": "code",
   "execution_count": 52,
   "id": "ef26cee9-8355-4d23-be3d-a7c89001dda7",
   "metadata": {},
   "outputs": [
    {
     "ename": "SyntaxError",
     "evalue": "invalid syntax (1677335243.py, line 18)",
     "output_type": "error",
     "traceback": [
      "\u001b[0;36m  Cell \u001b[0;32mIn[52], line 18\u001b[0;36m\u001b[0m\n\u001b[0;31m    .\u001b[0m\n\u001b[0m    ^\u001b[0m\n\u001b[0;31mSyntaxError\u001b[0m\u001b[0;31m:\u001b[0m invalid syntax\n"
     ]
    }
   ],
   "source": [
    "#(7)- What are the advantages of using generators over regular functions?\n",
    "\n",
    "#    Generators in Python offer several advantages over regular functions. Here are some key benefits:\n",
    "\n",
    "#    Memory Efficiency:   Generators allow for lazy evaluation, meaning they produce items one at a time only as needed. \n",
    "#                         This is particularly useful when dealing with large datasets or infinite sequences, as they don’t\n",
    "#                         require the whole dataset to be stored in memory at once.\n",
    "\n",
    "#    Improved Performance:  Since generators yield values one at a time and only on demand, they often have better \n",
    "#                           performance characteristics, especially with large data streams. They reduce the overhead associated \n",
    "#                           with creating and managing large lists.\n",
    "\n",
    "#    Pipelining Operations:  Generators can be used to efficiently pipeline a series of operations. By chaining multiple generators, \n",
    "#                            you can process data in a more streamlined and memory-efficient manner.\n",
    "\n",
    "#    Cleaner Code:   Generators can simplify the code, making it more readable and maintainable.\n",
    "#                    They help break down complex algorithms into simple, reusable components\n",
    ".\n",
    "#    State Retention: Unlike regular functions that run to completion and then exit, generators maintain their state\n",
    "\n",
    "#    between executions. This means they can be paused and resumed, which is useful for scenarios like iterating over a large set of data.\n",
    "\n",
    "#    Enhanced Iteration:  Generators are inherently iterable, which means they can be used directly in for-loops, list comprehensions,\n",
    "#                         and other places where an iterable is required.\n",
    "\n",
    "#(8)-  Explain the purpose and usage of the `map()` function in Python.\n",
    "\n",
    "#      The map() function in Python serves to apply a given function to each item of an iterable \n",
    "#      (like a list or tuple) and returns an iterator that yields the results. It provides a concise \n",
    "#      way to perform operations on sequences without explicit loops.\n"
   ]
  },
  {
   "cell_type": "code",
   "execution_count": 54,
   "id": "82e2162b-6cd5-4ff3-86b6-01eb2767e486",
   "metadata": {},
   "outputs": [
    {
     "name": "stdout",
     "output_type": "stream",
     "text": [
      "[1, 4, 9, 16, 25]\n"
     ]
    }
   ],
   "source": [
    "def square(n):\n",
    "  return n**2\n",
    "\n",
    "numbers = [1, 2, 3, 4, 5]\n",
    "squared_numbers = map(square, numbers)\n",
    "\n",
    "print(list(squared_numbers))"
   ]
  },
  {
   "cell_type": "code",
   "execution_count": 56,
   "id": "6c71959b-3873-4fec-9fa3-667b2062fa67",
   "metadata": {},
   "outputs": [
    {
     "name": "stdout",
     "output_type": "stream",
     "text": [
      "[1, 4, 9, 16, 25]\n"
     ]
    }
   ],
   "source": [
    "#   In this example, map() applies the square() function to each element in the numbers list, producing an iterator.\n",
    "#   The list() constructor then converts the iterator into a list for printing. map() can also be used with lambda\n",
    "#    functions for more concise operations.\n",
    "\n",
    "numbers = [1, 2, 3, 4, 5]\n",
    "squared_numbers = map(lambda x: x**2, numbers)\n",
    "\n",
    "print(list(squared_numbers))                                                                                                                                                                                                                                                                                                                                                                                                                                                                                                                                                                                                                                                                                                                                                                                                                                                                                                                                                         "
   ]
  },
  {
   "cell_type": "code",
   "execution_count": 58,
   "id": "47b067b4-8d07-4d77-916c-1ce6b691aa97",
   "metadata": {},
   "outputs": [
    {
     "name": "stdout",
     "output_type": "stream",
     "text": [
      "[5, 7, 9]\n"
     ]
    }
   ],
   "source": [
    "#   Furthermore, map() can accept multiple iterables as arguments, applying the function element-wise across them.\n",
    "\n",
    "list1 = [1, 2, 3]\n",
    "list2 = [4, 5, 6]\n",
    "\n",
    "result = map(lambda x, y: x + y, list1, list2)\n",
    "\n",
    "print(list(result))"
   ]
  },
  {
   "cell_type": "code",
   "execution_count": 60,
   "id": "48ae874d-8acb-4ff7-9cd3-58a358d6176b",
   "metadata": {},
   "outputs": [
    {
     "name": "stdout",
     "output_type": "stream",
     "text": [
      "113\n"
     ]
    }
   ],
   "source": [
    "#(8)- What is the difference between `map()`, `reduce()`, and `filter()` functions in Python?\n",
    "\n",
    "#   1. map()\n",
    "#   Purpose: Applies a function to each element of an iterable and returns a new iterable (iterator) with the transformed values.\n",
    "#   Usage:   Used when you need to modify or transform elements.\n",
    "#   Returns: A map object (iterator), which can be converted to a list, tuple, etc.\n",
    "\n",
    "#   2. filter()\n",
    "#   Purpose: Filters elements from an iterable based on a condition (i.e., function returns True or False).\n",
    "#   Usage: Used when you need to remove elements that don’t meet a condition.\n",
    "#   Returns: A filter object (iterator), which can be converted to a list, tuple, etc.\n",
    "\n",
    "#   3. reduce() (from functools module)\n",
    "#   Purpose: Applies a function cumulatively to the elements of an iterable, reducing it to a single value.\n",
    "#   Usage: Used when you need to compute a single result (e.g., sum, product, max, etc.).\n",
    "#   Returns: A single accumulated value.\n",
    "\n",
    "#   Key Differences\n",
    "#   Function\t     Purpose       \t                                     Returns\t                            Use Case\n",
    "\n",
    "#   map()\t    Applies a function to each element\t        Iterator with transformed values\tWhen you want to modify all elements\n",
    "#   filter()\tSelects elements that meet a condition  \tIterator with filtered values\t    When you want to keep only certain elements\n",
    "#   reduce()\tReduces an iterable to a single value\t    A single computed result\t        When you need a cumulative result\n",
    "\n",
    "#(9)- Using pen & Paper write the internal mechanism for sum operation using  reduce function on this given\n",
    "#        list:[47,11,42,13];\n",
    "\n",
    "#      Internal Mechanism of reduce() Function in Python\n",
    "#       Sum Operation on List [47, 11, 42, 13]\n",
    "\n",
    "\n",
    "from functools import reduce\n",
    "\n",
    "numbers = [47, 11, 42, 13]\n",
    "result = reduce(lambda x, y: x + y, numbers)\n",
    "print(result)"
   ]
  },
  {
   "cell_type": "code",
   "execution_count": 62,
   "id": "8c284a86-51e2-4162-90c2-531e4dd03aa7",
   "metadata": {},
   "outputs": [
    {
     "ename": "SyntaxError",
     "evalue": "invalid syntax (163952900.py, line 15)",
     "output_type": "error",
     "traceback": [
      "\u001b[0;36m  Cell \u001b[0;32mIn[62], line 15\u001b[0;36m\u001b[0m\n\u001b[0;31m    Step 1: 47 + 11 = 58\u001b[0m\n\u001b[0m         ^\u001b[0m\n\u001b[0;31mSyntaxError\u001b[0m\u001b[0;31m:\u001b[0m invalid syntax\n"
     ]
    }
   ],
   "source": [
    "#      How reduce() Works Internally\n",
    "#     he reduce() function works like this: It takes the first two elements of the list, applies the function,\n",
    "#     then uses the result as the first parameter for the next element — and continues until one final result is returned.\n",
    "\n",
    "#     Step-by-Step Internal Working\n",
    "#     List: [47, 11, 42, 13]\n",
    "\n",
    "#     Function: lambda x, y: x + y\n",
    "\n",
    "#Step\t       x\t  y       Result       \tRemaining List\n",
    "#Step       \t47\t  11  \t   58       \t[58, 42, 13]\n",
    "#Step       \t58\t  42\t   100      \t[100, 13]\n",
    "#Step       \t100\t  13\t   113\t           [113]\n",
    "\n",
    "Step 1: 47 + 11 = 58\n",
    "Step 2: 58 + 42 = 100\n",
    "Step 3: 100 + 13 = 113\n",
    "# OUTPUT \n",
    "113\n",
    "#   Important Points:\n",
    "#   The reduce() function always returns a single value.\n",
    "#   It processes elements two at a time.\n",
    "#    The result of each operation becomes the first parameter for the next iteration.\n",
    "\n",
    "[47, 11, 42, 13]\n",
    "   ↓\n",
    "47 + 11 = 58\n",
    "   ↓\n",
    "58 + 42 = 100\n",
    "   ↓\n",
    "100 + 13 = 113\n",
    "#        map()\t    Transform elements\t   List/Iterator\n",
    "#        filter()\tSelect elements\t       list/Iterator\n",
    "#        reduce()\tCumulative result\t     Single value\n"
   ]
  },
  {
   "cell_type": "code",
   "execution_count": 1,
   "id": "cc32dbc1-f5be-4e61-ada8-06a58369a363",
   "metadata": {},
   "outputs": [
    {
     "name": "stdout",
     "output_type": "stream",
     "text": [
      "84\n"
     ]
    }
   ],
   "source": [
    "######################## PRATICAL QUESTION  ###########################\n",
    "\n",
    "# (1)  Write a Python function that takes a list of numbers as input and returns the sum of all even numbers in\n",
    "#          the list.\n",
    "\n",
    "def sum_of_even_numbers(numbers):\n",
    "    even_sum = 0\n",
    "    for num in numbers:\n",
    "        if num % 2 == 0:\n",
    "            even_sum += num\n",
    "    return even_sum\n",
    "\n",
    "# Example usage\n",
    "numbers = [47, 11, 42, 13, 18, 24]\n",
    "result = sum_of_even_numbers(numbers)\n",
    "print(result)  # Outputs: 84\n"
   ]
  },
  {
   "cell_type": "code",
   "execution_count": 3,
   "id": "36f80d56-5d10-41ac-99d5-87a8d4ea54b6",
   "metadata": {},
   "outputs": [
    {
     "name": "stdout",
     "output_type": "stream",
     "text": [
      "!dlrow ,olleH\n"
     ]
    }
   ],
   "source": [
    "# (2) Create a Python function that accepts a string and returns the reverse of that string.\n",
    "def reverse_string(input_string):\n",
    "    return input_string[::-1]\n",
    "\n",
    "# Example usage\n",
    "original_string = \"Hello, world!\"\n",
    "reversed_string = reverse_string(original_string)\n",
    "print(reversed_string)  # Outputs: \"!dlrow ,olleH\"\n"
   ]
  },
  {
   "cell_type": "code",
   "execution_count": 5,
   "id": "9d4bcc67-e2e0-4b1a-a08b-500b013daa81",
   "metadata": {},
   "outputs": [
    {
     "name": "stdout",
     "output_type": "stream",
     "text": [
      "[1, 4, 9, 16, 25]\n"
     ]
    }
   ],
   "source": [
    "#(3) Implement a Python function that takes a list of integers and returns a new list containing the squares of each number.\n",
    "\n",
    "def square_numbers(numbers):\n",
    "    squared_numbers = [num * num for num in numbers]\n",
    "    return squared_numbers\n",
    "\n",
    "# Example usage\n",
    "numbers = [1, 2, 3, 4, 5]\n",
    "squared_list = square_numbers(numbers)\n",
    "print(squared_list)  # Outputs: [1, 4, 9, 16, 25]\n",
    "\n"
   ]
  },
  {
   "cell_type": "code",
   "execution_count": 13,
   "id": "3dd72832-ba99-4320-a820-2a6f04473fa6",
   "metadata": {},
   "outputs": [
    {
     "name": "stdout",
     "output_type": "stream",
     "text": [
      "1 is Not Prime\n",
      "2 is Prime\n",
      "3 is Prime\n",
      "4 is Not Prime\n",
      "5 is Prime\n",
      "6 is Not Prime\n",
      "7 is Prime\n",
      "8 is Not Prime\n",
      "9 is Not Prime\n",
      "10 is Not Prime\n",
      "11 is Prime\n",
      "12 is Not Prime\n",
      "13 is Prime\n",
      "14 is Not Prime\n",
      "15 is Not Prime\n",
      "16 is Not Prime\n",
      "17 is Prime\n",
      "18 is Not Prime\n",
      "19 is Prime\n"
     ]
    }
   ],
   "source": [
    "# (4.) Write a Python function that checks if a given number is prime or not from 1 to 200\n",
    "def is_prime(num):\n",
    "    if num < 2:\n",
    "        return False\n",
    "    for i in range(2, int(num**0.5) + 1):\n",
    "        if num % i == 0:\n",
    "            return False\n",
    "    return True\n",
    "\n",
    "# Check from 1 to 200\n",
    "for n in range(1, 20):\n",
    "    if is_prime(n):\n",
    "        print(n, \"is Prime\")\n",
    "    else:\n",
    "        print(n, \"is Not Prime\")\n",
    "\n"
   ]
  },
  {
   "cell_type": "code",
   "execution_count": 15,
   "id": "fd016e53-6d0c-43db-89b9-fc0bfa14f7c5",
   "metadata": {},
   "outputs": [
    {
     "name": "stdout",
     "output_type": "stream",
     "text": [
      "0\n",
      "1\n",
      "1\n",
      "2\n",
      "3\n",
      "5\n",
      "8\n",
      "13\n",
      "21\n",
      "34\n"
     ]
    }
   ],
   "source": [
    "#(5)  Create an iterator class in Python that generates the Fibonacci sequence up to a specified number of terms.\n",
    "\n",
    "class FibonacciIterator:\n",
    "    def __init__(self, max_terms):\n",
    "        self.max_terms = max_terms\n",
    "        self.current = 0\n",
    "        self.next = 1\n",
    "        self.count = 0\n",
    "\n",
    "    def __iter__(self):\n",
    "        return self\n",
    "\n",
    "    def __next__(self):\n",
    "        if self.count >= self.max_terms:\n",
    "            raise StopIteration\n",
    "        self.count += 1\n",
    "        fib_value = self.current\n",
    "        self.current, self.next = self.next, self.current + self.next\n",
    "        return fib_value\n",
    "\n",
    "# Example usage\n",
    "max_terms = 10\n",
    "fib_iter = FibonacciIterator(max_terms)\n",
    "for fib_number in fib_iter:\n",
    "    print(fib_number)\n"
   ]
  },
  {
   "cell_type": "code",
   "execution_count": 17,
   "id": "9b55a5c8-e1e9-490c-afc6-f941c52bf33d",
   "metadata": {},
   "outputs": [
    {
     "name": "stdout",
     "output_type": "stream",
     "text": [
      "1\n",
      "2\n",
      "4\n",
      "8\n",
      "16\n",
      "32\n",
      "64\n",
      "128\n",
      "256\n",
      "512\n",
      "1024\n"
     ]
    }
   ],
   "source": [
    "# (6) Write a generator function in Python that yields the powers of 2 up to a given exponent\n",
    "def powers_of_2(max_exponent):\n",
    "    for exponent in range(max_exponent + 1):\n",
    "        yield 2 ** exponent\n",
    "\n",
    "# Example usage\n",
    "max_exponent = 10\n",
    "for power in powers_of_2(max_exponent):\n",
    "    print(power)\n"
   ]
  },
  {
   "cell_type": "code",
   "execution_count": 23,
   "id": "1ecdb8bb-95c5-4497-bcb3-b6eecaeab2ba",
   "metadata": {},
   "outputs": [
    {
     "name": "stdout",
     "output_type": "stream",
     "text": [
      "File not found!\n"
     ]
    }
   ],
   "source": [
    "#(7) Implement a generator function that reads a file line by line and yields each line as a string.\n",
    "def read_file_line_by_line(file_path):\n",
    "    try:\n",
    "        with open(file_path, 'r') as file:\n",
    "            for line in file:\n",
    "                yield line.strip()  # strip() removes extra whitespace or newline characters\n",
    "    except FileNotFoundError:\n",
    "        print(\"File not found!\")\n",
    "        \n",
    "# Example Usage\n",
    "file_path = \"sample.txt\"  # Replace with your file path\n",
    "for line in read_file_line_by_line(file_path):\n",
    "    print(line)\n"
   ]
  },
  {
   "cell_type": "code",
   "execution_count": 25,
   "id": "b6f488e6-3df2-4aa6-800e-003a7d783221",
   "metadata": {},
   "outputs": [
    {
     "name": "stdout",
     "output_type": "stream",
     "text": [
      "Sorted List: [(4, 10), (3, 15), (2, 30), (1, 45)]\n"
     ]
    }
   ],
   "source": [
    "#(8) Use a lambda function in Python to sort a list of tuples based on the second element of each tuple.\n",
    "# List of Tuples\n",
    "data = [(1, 45), (3, 15), (2, 30), (4, 10)]\n",
    "\n",
    "# Sorting using lambda based on the second element\n",
    "sorted_data = sorted(data, key=lambda x: x[1])\n",
    "\n",
    "print(\"Sorted List:\", sorted_data)\n"
   ]
  },
  {
   "cell_type": "code",
   "execution_count": 31,
   "id": "b5e5a23e-9825-4ace-ac22-d952b68294e2",
   "metadata": {},
   "outputs": [
    {
     "name": "stdout",
     "output_type": "stream",
     "text": [
      "Celsius Temperatures: [0, 10, 20, 30, 40, 100]\n",
      "Fahrenheit Temperatures: [32.0, 50.0, 68.0, 86.0, 104.0, 212.0]\n"
     ]
    }
   ],
   "source": [
    "(9) Write a Python program that uses map() to convert a list of temperatures from Celsius to Fahrenheit. code for jypter\n",
    "\n",
    "# List of Celsius temperatures\n",
    "celsius = [0, 10, 20, 30, 40, 100]\n",
    "\n",
    "# Using map() with lambda to convert Celsius to Fahrenheit\n",
    "fahrenheit = list(map(lambda c: (c * 9/5) + 32, celsius))\n",
    "\n",
    "# Printing the result\n",
    "print(\"Celsius Temperatures:\", celsius)\n",
    "print(\"Fahrenheit Temperatures:\", fahrenheit)\n"
   ]
  },
  {
   "cell_type": "code",
   "execution_count": 33,
   "id": "81daf87b-605c-4c61-adf9-13af3e8cd3ec",
   "metadata": {},
   "outputs": [
    {
     "name": "stdout",
     "output_type": "stream",
     "text": [
      "Original String: Python Programming is Fun\n",
      "String without Vowels: Pythn Prgrmmng s Fn\n"
     ]
    }
   ],
   "source": [
    "# (10) Create a Python program that uses `filter()` to remove all the vowels from a given string.\n",
    "# Function to check if a character is a vowel\n",
    "def is_not_vowel(ch):\n",
    "    vowels = \"AEIOUaeiou\"\n",
    "    return ch not in vowels\n",
    "\n",
    "# Input String\n",
    "text = \"Python Programming is Fun\"\n",
    "\n",
    "# Using filter() to remove vowels\n",
    "result = \"\".join(filter(is_not_vowel, text))\n",
    "\n",
    "# Printing the Result\n",
    "print(\"Original String:\", text)\n",
    "print(\"String without Vowels:\", result)\n"
   ]
  },
  {
   "cell_type": "code",
   "execution_count": null,
   "id": "6e376e4d-8977-4f28-8159-5ec1ff8f53c1",
   "metadata": {},
   "outputs": [],
   "source": [
    "# 11) Imagine an accounting routine used in a book shop. It works on a list with sublists, which look like this:\n",
    "#      order number       book title and auther             quantity      price per item\n",
    "         \n",
    "#  Write a Python program, which returns a list with 2-tuples. Each tuple consists of the order number and the\n",
    "#  product of the price per item and the quantity. The product should be increased by 10,- € if the value of the\n",
    "#  order is smaller than 100,00 €.\n",
    "\n",
    "#  Write a Python program using lambda and map.\n",
    "\n",
    "order"
   ]
  }
 ],
 "metadata": {
  "kernelspec": {
   "display_name": "Python [conda env:base] *",
   "language": "python",
   "name": "conda-base-py"
  },
  "language_info": {
   "codemirror_mode": {
    "name": "ipython",
    "version": 3
   },
   "file_extension": ".py",
   "mimetype": "text/x-python",
   "name": "python",
   "nbconvert_exporter": "python",
   "pygments_lexer": "ipython3",
   "version": "3.12.7"
  }
 },
 "nbformat": 4,
 "nbformat_minor": 5
}
